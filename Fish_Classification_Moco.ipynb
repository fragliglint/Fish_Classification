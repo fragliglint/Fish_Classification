{
  "nbformat": 4,
  "nbformat_minor": 0,
  "metadata": {
    "colab": {
      "provenance": [],
      "machine_shape": "hm",
      "gpuType": "L4"
    },
    "kernelspec": {
      "name": "python3",
      "display_name": "Python 3"
    },
    "language_info": {
      "name": "python"
    },
    "accelerator": "GPU"
  },
  "cells": [
    {
      "cell_type": "code",
      "source": [
        "from google.colab import drive\n",
        "drive.mount('/content/drive')"
      ],
      "metadata": {
        "colab": {
          "base_uri": "https://localhost:8080/"
        },
        "id": "2xin2W0DJCaG",
        "outputId": "bf57dfbe-4799-4ca9-f1a2-d47d60b08342"
      },
      "execution_count": null,
      "outputs": [
        {
          "output_type": "stream",
          "name": "stdout",
          "text": [
            "Drive already mounted at /content/drive; to attempt to forcibly remount, call drive.mount(\"/content/drive\", force_remount=True).\n"
          ]
        }
      ]
    },
    {
      "cell_type": "code",
      "execution_count": 1,
      "metadata": {
        "id": "PRm8VZPkGmNO"
      },
      "outputs": [],
      "source": [
        "import os\n",
        "import torch\n",
        "from torchvision import datasets, transforms\n",
        "from torch.utils.data import DataLoader\n",
        "import random"
      ]
    },
    {
      "cell_type": "code",
      "source": [
        "\n",
        "\n",
        "# Pretext augmentations for MOCO\n",
        "moco_transform = transforms.Compose([\n",
        "    transforms.RandomResizedCrop(224),\n",
        "    transforms.RandomHorizontalFlip(),\n",
        "    transforms.ColorJitter(0.4, 0.4, 0.4, 0.1),\n",
        "    transforms.RandomGrayscale(p=0.2),\n",
        "    transforms.GaussianBlur(3),\n",
        "    transforms.ToTensor(),\n",
        "    transforms.Normalize(mean=[0.485, 0.456, 0.406],\n",
        "                         std=[0.229, 0.224, 0.225]),\n",
        "])\n",
        "\n",
        "# Dataset loading without labels (ImageFolder still uses them but we ignore)\n",
        "class MoCoDataset(torch.utils.data.Dataset):\n",
        "    def __init__(self, root_dir, transform):\n",
        "        self.dataset = datasets.ImageFolder(root=root_dir)\n",
        "        self.transform = transform\n",
        "\n",
        "    def __getitem__(self, index):\n",
        "        img, _ = self.dataset[index]\n",
        "        return self.transform(img), self.transform(img)  # return two views\n",
        "\n",
        "    def __len__(self):\n",
        "        return len(self.dataset)\n",
        "\n",
        "pretext_dataset = MoCoDataset(\"/content/drive/MyDrive/Colab Notebooks/Fish Classifications/Fish Data_Raw\", moco_transform)\n",
        "pretext_loader = DataLoader(pretext_dataset, batch_size=128, shuffle=True, num_workers=2)\n"
      ],
      "metadata": {
        "id": "hqE7XPFWGtUn"
      },
      "execution_count": 2,
      "outputs": []
    },
    {
      "cell_type": "code",
      "source": [
        "import torch.nn as nn\n",
        "import torch.nn.functional as F\n",
        "\n",
        "# Simple encoder using ResNet18\n",
        "from torchvision.models import resnet18\n",
        "\n",
        "class MoCo(nn.Module):\n",
        "    def __init__(self, feature_dim=128):\n",
        "        super(MoCo, self).__init__()\n",
        "        self.encoder_q = self._get_encoder(feature_dim)\n",
        "        self.encoder_k = self._get_encoder(feature_dim)\n",
        "        self._momentum = 0.999\n",
        "        self._queue_size = 8192\n",
        "        self.register_buffer(\"queue\", torch.randn(feature_dim, self._queue_size))\n",
        "        self.queue = nn.functional.normalize(self.queue, dim=0)\n",
        "        self.register_buffer(\"queue_ptr\", torch.zeros(1, dtype=torch.long))\n",
        "\n",
        "    def _get_encoder(self, feature_dim):\n",
        "        model = resnet18(pretrained=False)\n",
        "        num_ftrs = model.fc.in_features\n",
        "        model.fc = nn.Sequential(\n",
        "            nn.Linear(num_ftrs, feature_dim),\n",
        "            nn.ReLU(),\n",
        "            nn.Linear(feature_dim, feature_dim)\n",
        "        )\n",
        "        return model\n",
        "\n",
        "    @torch.no_grad()\n",
        "    def _momentum_update(self):\n",
        "        for param_q, param_k in zip(self.encoder_q.parameters(), self.encoder_k.parameters()):\n",
        "            param_k.data = param_k.data * self._momentum + param_q.data * (1. - self._momentum)\n",
        "    @torch.no_grad()\n",
        "    def _dequeue_and_enqueue(self, keys):\n",
        "        # keys: [B, D]\n",
        "        keys = keys.detach()\n",
        "        batch_size = keys.shape[0]\n",
        "\n",
        "        ptr = int(self.queue_ptr)\n",
        "        queue_size = self.queue.shape[1]\n",
        "\n",
        "        if ptr + batch_size <= queue_size:\n",
        "            self.queue[:, ptr:ptr + batch_size] = keys.T\n",
        "        else:\n",
        "            overflow = (ptr + batch_size) - queue_size\n",
        "            self.queue[:, ptr:] = keys[:batch_size - overflow].T\n",
        "            self.queue[:, :overflow] = keys[batch_size - overflow:].T\n",
        "\n",
        "        ptr = (ptr + batch_size) % queue_size\n",
        "        self.queue_ptr[0] = ptr\n",
        "\n",
        "\n",
        "    def forward(self, im_q, im_k):\n",
        "      batch_size = im_q.size(0)\n",
        "\n",
        "      # Compute query features\n",
        "      q = self.encoder_q(im_q)  # [B, D]\n",
        "      q = F.normalize(q, dim=1)\n",
        "\n",
        "      # Compute key features (momentum encoder)\n",
        "      with torch.no_grad():\n",
        "          self._momentum_update()\n",
        "          k = self.encoder_k(im_k)\n",
        "          k = F.normalize(k, dim=1)\n",
        "\n",
        "    # Positive logits: [B, 1]\n",
        "      l_pos = torch.bmm(q.view(batch_size, 1, -1), k.view(batch_size, -1, 1)).squeeze(-1).squeeze(-1)  # [B]\n",
        "\n",
        "    # Negative logits: [B, K]\n",
        "      queue = self.queue.clone().detach()\n",
        "      l_neg = torch.mm(q, queue)  # [B, K]\n",
        "\n",
        "    # Combine: [B, 1+K]\n",
        "      logits = torch.cat([l_pos.unsqueeze(1), l_neg], dim=1)\n",
        "\n",
        "    # Labels: positives are at index 0\n",
        "      labels = torch.zeros(batch_size, dtype=torch.long).to(q.device)\n",
        "\n",
        "    # Update the queue\n",
        "      self._dequeue_and_enqueue(k)\n",
        "\n",
        "      return logits, labels\n",
        "\n",
        "\n"
      ],
      "metadata": {
        "id": "PAz1-OlOGtLi"
      },
      "execution_count": 3,
      "outputs": []
    },
    {
      "cell_type": "code",
      "source": [
        "save_path = '/content/drive/MyDrive/Colab Notebooks/Fish Classifications/moco_checkpoints'\n",
        "\n",
        "import os\n",
        "import torch.optim as optim\n",
        "from tqdm import tqdm\n",
        "import torch.nn.functional as F\n",
        "\n",
        "device = torch.device(\"cuda\" if torch.cuda.is_available() else \"cpu\")\n",
        "model = MoCo().to(device)\n",
        "optimizer = optim.Adam(model.parameters(), lr=1e-3)\n",
        "\n",
        "# Ensure the save path exists\n",
        "os.makedirs(save_path, exist_ok=True)"
      ],
      "metadata": {
        "colab": {
          "base_uri": "https://localhost:8080/"
        },
        "id": "_LMqdFDM4TPI",
        "outputId": "b82c22a5-9fd1-412a-f15e-9cfa023a6429"
      },
      "execution_count": 4,
      "outputs": [
        {
          "output_type": "stream",
          "name": "stderr",
          "text": [
            "/usr/local/lib/python3.11/dist-packages/torchvision/models/_utils.py:208: UserWarning: The parameter 'pretrained' is deprecated since 0.13 and may be removed in the future, please use 'weights' instead.\n",
            "  warnings.warn(\n",
            "/usr/local/lib/python3.11/dist-packages/torchvision/models/_utils.py:223: UserWarning: Arguments other than a weight enum or `None` for 'weights' are deprecated since 0.13 and may be removed in the future. The current behavior is equivalent to passing `weights=None`.\n",
            "  warnings.warn(msg)\n"
          ]
        }
      ]
    },
    {
      "cell_type": "code",
      "source": [
        "\n",
        "\n",
        "EPOCHS = 100\n",
        "for epoch in range(1, EPOCHS + 1):\n",
        "    model.train()\n",
        "    total_loss = 0\n",
        "    batch_count = 0\n",
        "    loop = tqdm(pretext_loader, leave=False)\n",
        "\n",
        "    for im_q, im_k in loop:\n",
        "        im_q, im_k = im_q.to(device), im_k.to(device)\n",
        "        logits, labels = model(im_q, im_k)\n",
        "        loss = F.cross_entropy(logits, labels)\n",
        "\n",
        "        optimizer.zero_grad()\n",
        "        loss.backward()\n",
        "        optimizer.step()\n",
        "\n",
        "        total_loss += loss.item()\n",
        "        batch_count += 1\n",
        "\n",
        "        loop.set_description(f\"Epoch [{epoch}/{EPOCHS}]\")\n",
        "        loop.set_postfix(loss=loss.item())\n",
        "\n",
        "    avg_loss = total_loss / batch_count\n",
        "    print(f\"Epoch {epoch}: Average Loss = {avg_loss:.4f}\")\n",
        "\n",
        "    # Save encoder every 5 epochs\n",
        "    if epoch % 5 == 0:\n",
        "        model_file = os.path.join(save_path, f\"moco_encoder_epoch{epoch}.pth\")\n",
        "        torch.save(model.encoder_q.state_dict(), model_file)\n",
        "        print(f\"Encoder saved at epoch {epoch}: {model_file}\")\n"
      ],
      "metadata": {
        "colab": {
          "base_uri": "https://localhost:8080/"
        },
        "id": "MIS33HXAGtOG",
        "outputId": "f9c0dcdf-ece5-4563-cee8-b80b0d4e0152"
      },
      "execution_count": null,
      "outputs": [
        {
          "metadata": {
            "tags": null
          },
          "name": "stderr",
          "output_type": "stream",
          "text": [
            ""
          ]
        },
        {
          "metadata": {
            "tags": null
          },
          "name": "stdout",
          "output_type": "stream",
          "text": [
            "Epoch 1: Average Loss = 8.6506\n"
          ]
        },
        {
          "metadata": {
            "tags": null
          },
          "name": "stderr",
          "output_type": "stream",
          "text": [
            ""
          ]
        },
        {
          "metadata": {
            "tags": null
          },
          "name": "stdout",
          "output_type": "stream",
          "text": [
            "Epoch 2: Average Loss = 8.7636\n"
          ]
        },
        {
          "metadata": {
            "tags": null
          },
          "name": "stderr",
          "output_type": "stream",
          "text": [
            ""
          ]
        },
        {
          "metadata": {
            "tags": null
          },
          "name": "stdout",
          "output_type": "stream",
          "text": [
            "Epoch 3: Average Loss = 8.6379\n"
          ]
        },
        {
          "metadata": {
            "tags": null
          },
          "name": "stderr",
          "output_type": "stream",
          "text": [
            ""
          ]
        },
        {
          "metadata": {
            "tags": null
          },
          "name": "stdout",
          "output_type": "stream",
          "text": [
            "Epoch 4: Average Loss = 8.5876\n"
          ]
        },
        {
          "metadata": {
            "tags": null
          },
          "name": "stderr",
          "output_type": "stream",
          "text": [
            ""
          ]
        },
        {
          "metadata": {
            "tags": null
          },
          "name": "stdout",
          "output_type": "stream",
          "text": [
            "Epoch 5: Average Loss = 8.5565\n",
            "Encoder saved at epoch 5: /content/drive/MyDrive/Colab Notebooks/Fish Classifications/moco_checkpoints/moco_encoder_epoch5.pth\n"
          ]
        },
        {
          "metadata": {
            "tags": null
          },
          "name": "stderr",
          "output_type": "stream",
          "text": [
            ""
          ]
        },
        {
          "metadata": {
            "tags": null
          },
          "name": "stdout",
          "output_type": "stream",
          "text": [
            "Epoch 6: Average Loss = 8.5319\n"
          ]
        },
        {
          "metadata": {
            "tags": null
          },
          "name": "stderr",
          "output_type": "stream",
          "text": [
            ""
          ]
        },
        {
          "metadata": {
            "tags": null
          },
          "name": "stdout",
          "output_type": "stream",
          "text": [
            "Epoch 7: Average Loss = 8.5096\n"
          ]
        },
        {
          "metadata": {
            "tags": null
          },
          "name": "stderr",
          "output_type": "stream",
          "text": [
            ""
          ]
        },
        {
          "metadata": {
            "tags": null
          },
          "name": "stdout",
          "output_type": "stream",
          "text": [
            "Epoch 8: Average Loss = 8.4839\n"
          ]
        },
        {
          "metadata": {
            "tags": null
          },
          "name": "stderr",
          "output_type": "stream",
          "text": [
            ""
          ]
        },
        {
          "metadata": {
            "tags": null
          },
          "name": "stdout",
          "output_type": "stream",
          "text": [
            "Epoch 9: Average Loss = 8.4666\n"
          ]
        },
        {
          "metadata": {
            "tags": null
          },
          "name": "stderr",
          "output_type": "stream",
          "text": [
            ""
          ]
        },
        {
          "metadata": {
            "tags": null
          },
          "name": "stdout",
          "output_type": "stream",
          "text": [
            "Epoch 10: Average Loss = 8.4517\n",
            "Encoder saved at epoch 10: /content/drive/MyDrive/Colab Notebooks/Fish Classifications/moco_checkpoints/moco_encoder_epoch10.pth\n"
          ]
        },
        {
          "metadata": {
            "tags": null
          },
          "name": "stderr",
          "output_type": "stream",
          "text": [
            ""
          ]
        },
        {
          "metadata": {
            "tags": null
          },
          "name": "stdout",
          "output_type": "stream",
          "text": [
            "Epoch 11: Average Loss = 8.4353\n"
          ]
        },
        {
          "metadata": {
            "tags": null
          },
          "name": "stderr",
          "output_type": "stream",
          "text": [
            ""
          ]
        },
        {
          "metadata": {
            "tags": null
          },
          "name": "stdout",
          "output_type": "stream",
          "text": [
            "Epoch 12: Average Loss = 8.4202\n"
          ]
        },
        {
          "metadata": {
            "tags": null
          },
          "name": "stderr",
          "output_type": "stream",
          "text": [
            ""
          ]
        },
        {
          "metadata": {
            "tags": null
          },
          "name": "stdout",
          "output_type": "stream",
          "text": [
            "Epoch 13: Average Loss = 8.4060\n"
          ]
        },
        {
          "metadata": {
            "tags": null
          },
          "name": "stderr",
          "output_type": "stream",
          "text": [
            ""
          ]
        },
        {
          "metadata": {
            "tags": null
          },
          "name": "stdout",
          "output_type": "stream",
          "text": [
            "Epoch 14: Average Loss = 8.3947\n"
          ]
        },
        {
          "metadata": {
            "tags": null
          },
          "name": "stderr",
          "output_type": "stream",
          "text": [
            ""
          ]
        },
        {
          "metadata": {
            "tags": null
          },
          "name": "stdout",
          "output_type": "stream",
          "text": [
            "Epoch 15: Average Loss = 8.3813\n",
            "Encoder saved at epoch 15: /content/drive/MyDrive/Colab Notebooks/Fish Classifications/moco_checkpoints/moco_encoder_epoch15.pth\n"
          ]
        },
        {
          "metadata": {
            "tags": null
          },
          "name": "stderr",
          "output_type": "stream",
          "text": [
            ""
          ]
        },
        {
          "metadata": {
            "tags": null
          },
          "name": "stdout",
          "output_type": "stream",
          "text": [
            "Epoch 16: Average Loss = 8.3751\n"
          ]
        },
        {
          "metadata": {
            "tags": null
          },
          "name": "stderr",
          "output_type": "stream",
          "text": [
            ""
          ]
        },
        {
          "metadata": {
            "tags": null
          },
          "name": "stdout",
          "output_type": "stream",
          "text": [
            "Epoch 17: Average Loss = 8.3652\n"
          ]
        },
        {
          "metadata": {
            "tags": null
          },
          "name": "stderr",
          "output_type": "stream",
          "text": [
            ""
          ]
        },
        {
          "metadata": {
            "tags": null
          },
          "name": "stdout",
          "output_type": "stream",
          "text": [
            "Epoch 18: Average Loss = 8.3541\n"
          ]
        },
        {
          "metadata": {
            "tags": null
          },
          "name": "stderr",
          "output_type": "stream",
          "text": [
            ""
          ]
        },
        {
          "metadata": {
            "tags": null
          },
          "name": "stdout",
          "output_type": "stream",
          "text": [
            "Epoch 19: Average Loss = 8.3454\n"
          ]
        },
        {
          "metadata": {
            "tags": null
          },
          "name": "stderr",
          "output_type": "stream",
          "text": [
            ""
          ]
        },
        {
          "metadata": {
            "tags": null
          },
          "name": "stdout",
          "output_type": "stream",
          "text": [
            "Epoch 20: Average Loss = 8.3379\n",
            "Encoder saved at epoch 20: /content/drive/MyDrive/Colab Notebooks/Fish Classifications/moco_checkpoints/moco_encoder_epoch20.pth\n"
          ]
        },
        {
          "metadata": {
            "tags": null
          },
          "name": "stderr",
          "output_type": "stream",
          "text": [
            ""
          ]
        },
        {
          "metadata": {
            "tags": null
          },
          "name": "stdout",
          "output_type": "stream",
          "text": [
            "Epoch 21: Average Loss = 8.3314\n"
          ]
        },
        {
          "metadata": {
            "tags": null
          },
          "name": "stderr",
          "output_type": "stream",
          "text": [
            ""
          ]
        },
        {
          "metadata": {
            "tags": null
          },
          "name": "stdout",
          "output_type": "stream",
          "text": [
            "Epoch 22: Average Loss = 8.3233\n"
          ]
        },
        {
          "metadata": {
            "tags": null
          },
          "name": "stderr",
          "output_type": "stream",
          "text": [
            ""
          ]
        },
        {
          "metadata": {
            "tags": null
          },
          "name": "stdout",
          "output_type": "stream",
          "text": [
            "Epoch 23: Average Loss = 8.3147\n"
          ]
        },
        {
          "metadata": {
            "tags": null
          },
          "name": "stderr",
          "output_type": "stream",
          "text": [
            ""
          ]
        },
        {
          "metadata": {
            "tags": null
          },
          "name": "stdout",
          "output_type": "stream",
          "text": [
            "Epoch 24: Average Loss = 8.3097\n"
          ]
        },
        {
          "metadata": {
            "tags": null
          },
          "name": "stderr",
          "output_type": "stream",
          "text": [
            ""
          ]
        },
        {
          "metadata": {
            "tags": null
          },
          "name": "stdout",
          "output_type": "stream",
          "text": [
            "Epoch 25: Average Loss = 8.3000\n",
            "Encoder saved at epoch 25: /content/drive/MyDrive/Colab Notebooks/Fish Classifications/moco_checkpoints/moco_encoder_epoch25.pth\n"
          ]
        },
        {
          "metadata": {
            "tags": null
          },
          "name": "stderr",
          "output_type": "stream",
          "text": [
            ""
          ]
        },
        {
          "metadata": {
            "tags": null
          },
          "name": "stdout",
          "output_type": "stream",
          "text": [
            "Epoch 26: Average Loss = 8.2981\n"
          ]
        },
        {
          "metadata": {
            "tags": null
          },
          "name": "stderr",
          "output_type": "stream",
          "text": [
            ""
          ]
        },
        {
          "metadata": {
            "tags": null
          },
          "name": "stdout",
          "output_type": "stream",
          "text": [
            "Epoch 27: Average Loss = 8.2925\n"
          ]
        },
        {
          "metadata": {
            "tags": null
          },
          "name": "stderr",
          "output_type": "stream",
          "text": [
            ""
          ]
        },
        {
          "metadata": {
            "tags": null
          },
          "name": "stdout",
          "output_type": "stream",
          "text": [
            "Epoch 28: Average Loss = 8.2882\n"
          ]
        },
        {
          "metadata": {
            "tags": null
          },
          "name": "stderr",
          "output_type": "stream",
          "text": [
            ""
          ]
        },
        {
          "metadata": {
            "tags": null
          },
          "name": "stdout",
          "output_type": "stream",
          "text": [
            "Epoch 29: Average Loss = 8.2811\n"
          ]
        },
        {
          "metadata": {
            "tags": null
          },
          "name": "stderr",
          "output_type": "stream",
          "text": [
            ""
          ]
        },
        {
          "metadata": {
            "tags": null
          },
          "name": "stdout",
          "output_type": "stream",
          "text": [
            "Epoch 30: Average Loss = 8.2800\n",
            "Encoder saved at epoch 30: /content/drive/MyDrive/Colab Notebooks/Fish Classifications/moco_checkpoints/moco_encoder_epoch30.pth\n"
          ]
        },
        {
          "metadata": {
            "tags": null
          },
          "name": "stderr",
          "output_type": "stream",
          "text": [
            ""
          ]
        },
        {
          "metadata": {
            "tags": null
          },
          "name": "stdout",
          "output_type": "stream",
          "text": [
            "Epoch 31: Average Loss = 8.2748\n"
          ]
        },
        {
          "metadata": {
            "tags": null
          },
          "name": "stderr",
          "output_type": "stream",
          "text": [
            ""
          ]
        },
        {
          "metadata": {
            "tags": null
          },
          "name": "stdout",
          "output_type": "stream",
          "text": [
            "Epoch 32: Average Loss = 8.2718\n"
          ]
        },
        {
          "metadata": {
            "tags": null
          },
          "name": "stderr",
          "output_type": "stream",
          "text": [
            ""
          ]
        },
        {
          "metadata": {
            "tags": null
          },
          "name": "stdout",
          "output_type": "stream",
          "text": [
            "Epoch 33: Average Loss = 8.2659\n"
          ]
        },
        {
          "metadata": {
            "tags": null
          },
          "name": "stderr",
          "output_type": "stream",
          "text": [
            ""
          ]
        },
        {
          "metadata": {
            "tags": null
          },
          "name": "stdout",
          "output_type": "stream",
          "text": [
            "Epoch 34: Average Loss = 8.2621\n"
          ]
        },
        {
          "metadata": {
            "tags": null
          },
          "name": "stderr",
          "output_type": "stream",
          "text": [
            ""
          ]
        },
        {
          "metadata": {
            "tags": null
          },
          "name": "stdout",
          "output_type": "stream",
          "text": [
            "Epoch 35: Average Loss = 8.2601\n",
            "Encoder saved at epoch 35: /content/drive/MyDrive/Colab Notebooks/Fish Classifications/moco_checkpoints/moco_encoder_epoch35.pth\n"
          ]
        },
        {
          "metadata": {
            "tags": null
          },
          "name": "stderr",
          "output_type": "stream",
          "text": [
            ""
          ]
        },
        {
          "metadata": {
            "tags": null
          },
          "name": "stdout",
          "output_type": "stream",
          "text": [
            "Epoch 36: Average Loss = 8.2575\n"
          ]
        },
        {
          "metadata": {
            "tags": null
          },
          "name": "stderr",
          "output_type": "stream",
          "text": [
            ""
          ]
        },
        {
          "metadata": {
            "tags": null
          },
          "name": "stdout",
          "output_type": "stream",
          "text": [
            "Epoch 37: Average Loss = 8.2519\n"
          ]
        },
        {
          "metadata": {
            "tags": null
          },
          "name": "stderr",
          "output_type": "stream",
          "text": [
            ""
          ]
        },
        {
          "metadata": {
            "tags": null
          },
          "name": "stdout",
          "output_type": "stream",
          "text": [
            "Epoch 38: Average Loss = 8.2507\n"
          ]
        },
        {
          "metadata": {
            "tags": null
          },
          "name": "stderr",
          "output_type": "stream",
          "text": [
            ""
          ]
        },
        {
          "metadata": {
            "tags": null
          },
          "name": "stdout",
          "output_type": "stream",
          "text": [
            "Epoch 39: Average Loss = 8.2484\n"
          ]
        },
        {
          "metadata": {
            "tags": null
          },
          "name": "stderr",
          "output_type": "stream",
          "text": [
            ""
          ]
        },
        {
          "metadata": {
            "tags": null
          },
          "name": "stdout",
          "output_type": "stream",
          "text": [
            "Epoch 40: Average Loss = 8.2427\n",
            "Encoder saved at epoch 40: /content/drive/MyDrive/Colab Notebooks/Fish Classifications/moco_checkpoints/moco_encoder_epoch40.pth\n"
          ]
        },
        {
          "metadata": {
            "tags": null
          },
          "name": "stderr",
          "output_type": "stream",
          "text": [
            ""
          ]
        },
        {
          "metadata": {
            "tags": null
          },
          "name": "stdout",
          "output_type": "stream",
          "text": [
            "Epoch 41: Average Loss = 8.2427\n"
          ]
        },
        {
          "metadata": {
            "tags": null
          },
          "name": "stderr",
          "output_type": "stream",
          "text": [
            ""
          ]
        },
        {
          "metadata": {
            "tags": null
          },
          "name": "stdout",
          "output_type": "stream",
          "text": [
            "Epoch 42: Average Loss = 8.2390\n"
          ]
        },
        {
          "metadata": {
            "tags": null
          },
          "name": "stderr",
          "output_type": "stream",
          "text": [
            ""
          ]
        },
        {
          "metadata": {
            "tags": null
          },
          "name": "stdout",
          "output_type": "stream",
          "text": [
            "Epoch 43: Average Loss = 8.2372\n"
          ]
        },
        {
          "metadata": {
            "tags": null
          },
          "name": "stderr",
          "output_type": "stream",
          "text": [
            ""
          ]
        },
        {
          "metadata": {
            "tags": null
          },
          "name": "stdout",
          "output_type": "stream",
          "text": [
            "Epoch 44: Average Loss = 8.2314\n"
          ]
        },
        {
          "metadata": {
            "tags": null
          },
          "name": "stderr",
          "output_type": "stream",
          "text": [
            ""
          ]
        },
        {
          "metadata": {
            "tags": null
          },
          "name": "stdout",
          "output_type": "stream",
          "text": [
            "Epoch 45: Average Loss = 8.2299\n",
            "Encoder saved at epoch 45: /content/drive/MyDrive/Colab Notebooks/Fish Classifications/moco_checkpoints/moco_encoder_epoch45.pth\n"
          ]
        },
        {
          "metadata": {
            "tags": null
          },
          "name": "stderr",
          "output_type": "stream",
          "text": [
            ""
          ]
        },
        {
          "metadata": {
            "tags": null
          },
          "name": "stdout",
          "output_type": "stream",
          "text": [
            "Epoch 46: Average Loss = 8.2262\n"
          ]
        },
        {
          "metadata": {
            "tags": null
          },
          "name": "stderr",
          "output_type": "stream",
          "text": [
            ""
          ]
        },
        {
          "metadata": {
            "tags": null
          },
          "name": "stdout",
          "output_type": "stream",
          "text": [
            "Epoch 47: Average Loss = 8.2238\n"
          ]
        },
        {
          "metadata": {
            "tags": null
          },
          "name": "stderr",
          "output_type": "stream",
          "text": [
            ""
          ]
        },
        {
          "metadata": {
            "tags": null
          },
          "name": "stdout",
          "output_type": "stream",
          "text": [
            "Epoch 48: Average Loss = 8.2210\n"
          ]
        },
        {
          "metadata": {
            "tags": null
          },
          "name": "stderr",
          "output_type": "stream",
          "text": [
            ""
          ]
        },
        {
          "metadata": {
            "tags": null
          },
          "name": "stdout",
          "output_type": "stream",
          "text": [
            "Epoch 49: Average Loss = 8.2179\n"
          ]
        },
        {
          "metadata": {
            "tags": null
          },
          "name": "stderr",
          "output_type": "stream",
          "text": [
            ""
          ]
        },
        {
          "metadata": {
            "tags": null
          },
          "name": "stdout",
          "output_type": "stream",
          "text": [
            "Epoch 50: Average Loss = 8.2160\n",
            "Encoder saved at epoch 50: /content/drive/MyDrive/Colab Notebooks/Fish Classifications/moco_checkpoints/moco_encoder_epoch50.pth\n"
          ]
        },
        {
          "metadata": {
            "tags": null
          },
          "name": "stderr",
          "output_type": "stream",
          "text": [
            ""
          ]
        },
        {
          "metadata": {
            "tags": null
          },
          "name": "stdout",
          "output_type": "stream",
          "text": [
            "Epoch 51: Average Loss = 8.2138\n"
          ]
        },
        {
          "metadata": {
            "tags": null
          },
          "name": "stderr",
          "output_type": "stream",
          "text": [
            ""
          ]
        },
        {
          "metadata": {
            "tags": null
          },
          "name": "stdout",
          "output_type": "stream",
          "text": [
            "Epoch 52: Average Loss = 8.2128\n"
          ]
        },
        {
          "metadata": {
            "tags": null
          },
          "name": "stderr",
          "output_type": "stream",
          "text": [
            ""
          ]
        },
        {
          "metadata": {
            "tags": null
          },
          "name": "stdout",
          "output_type": "stream",
          "text": [
            "Epoch 53: Average Loss = 8.2095\n"
          ]
        },
        {
          "metadata": {
            "tags": null
          },
          "name": "stderr",
          "output_type": "stream",
          "text": [
            ""
          ]
        },
        {
          "metadata": {
            "tags": null
          },
          "name": "stdout",
          "output_type": "stream",
          "text": [
            "Epoch 54: Average Loss = 8.2047\n"
          ]
        },
        {
          "metadata": {
            "tags": null
          },
          "name": "stderr",
          "output_type": "stream",
          "text": [
            ""
          ]
        },
        {
          "metadata": {
            "tags": null
          },
          "name": "stdout",
          "output_type": "stream",
          "text": [
            "Epoch 55: Average Loss = 8.2039\n",
            "Encoder saved at epoch 55: /content/drive/MyDrive/Colab Notebooks/Fish Classifications/moco_checkpoints/moco_encoder_epoch55.pth\n"
          ]
        },
        {
          "metadata": {
            "tags": null
          },
          "name": "stderr",
          "output_type": "stream",
          "text": [
            ""
          ]
        },
        {
          "metadata": {
            "tags": null
          },
          "name": "stdout",
          "output_type": "stream",
          "text": [
            "Epoch 56: Average Loss = 8.2021\n"
          ]
        },
        {
          "metadata": {
            "tags": null
          },
          "name": "stderr",
          "output_type": "stream",
          "text": [
            ""
          ]
        },
        {
          "metadata": {
            "tags": null
          },
          "name": "stdout",
          "output_type": "stream",
          "text": [
            "Epoch 57: Average Loss = 8.1985\n"
          ]
        },
        {
          "metadata": {
            "tags": null
          },
          "name": "stderr",
          "output_type": "stream",
          "text": [
            ""
          ]
        },
        {
          "metadata": {
            "tags": null
          },
          "name": "stdout",
          "output_type": "stream",
          "text": [
            "Epoch 58: Average Loss = 8.1955\n"
          ]
        },
        {
          "metadata": {
            "tags": null
          },
          "name": "stderr",
          "output_type": "stream",
          "text": [
            ""
          ]
        },
        {
          "metadata": {
            "tags": null
          },
          "name": "stdout",
          "output_type": "stream",
          "text": [
            "Epoch 59: Average Loss = 8.1947\n"
          ]
        },
        {
          "metadata": {
            "tags": null
          },
          "name": "stderr",
          "output_type": "stream",
          "text": [
            ""
          ]
        },
        {
          "metadata": {
            "tags": null
          },
          "name": "stdout",
          "output_type": "stream",
          "text": [
            "Epoch 60: Average Loss = 8.1940\n",
            "Encoder saved at epoch 60: /content/drive/MyDrive/Colab Notebooks/Fish Classifications/moco_checkpoints/moco_encoder_epoch60.pth\n"
          ]
        },
        {
          "metadata": {
            "tags": null
          },
          "name": "stderr",
          "output_type": "stream",
          "text": [
            ""
          ]
        },
        {
          "metadata": {
            "tags": null
          },
          "name": "stdout",
          "output_type": "stream",
          "text": [
            "Epoch 61: Average Loss = 8.1917\n"
          ]
        },
        {
          "metadata": {
            "tags": null
          },
          "name": "stderr",
          "output_type": "stream",
          "text": [
            ""
          ]
        },
        {
          "metadata": {
            "tags": null
          },
          "name": "stdout",
          "output_type": "stream",
          "text": [
            "Epoch 62: Average Loss = 8.1899\n"
          ]
        },
        {
          "metadata": {
            "tags": null
          },
          "name": "stderr",
          "output_type": "stream",
          "text": [
            "Epoch [63/100]:  85%|████████▍ | 358/422 [06:03<00:55,  1.16it/s, loss=8.17]"
          ]
        }
      ]
    },
    {
      "cell_type": "code",
      "source": [
        "# Instantiate model\n",
        "model = MoCo().to(device)\n",
        "\n",
        "# Load saved encoder_q weights\n",
        "checkpoint_path = \"/content/drive/MyDrive/Colab Notebooks/Fish Classifications/moco_checkpoints/moco_encoder_epoch60.pth\"\n",
        "model.encoder_q.load_state_dict(torch.load(checkpoint_path))\n",
        "\n",
        "# Momentum encoder_k needs to match encoder_q\n",
        "# Copy weights manually\n",
        "for param_q, param_k in zip(model.encoder_q.parameters(), model.encoder_k.parameters()):\n",
        "    param_k.data.copy_(param_q.data)\n",
        "\n",
        "# Re-initialize optimizer\n",
        "optimizer = torch.optim.Adam(model.parameters(), lr=1e-3)\n"
      ],
      "metadata": {
        "id": "bLXlJoJp3mJK"
      },
      "execution_count": 11,
      "outputs": []
    },
    {
      "cell_type": "code",
      "source": [
        "START_EPOCH = 61\n",
        "END_EPOCH = 100\n",
        "\n",
        "for epoch in range(START_EPOCH, END_EPOCH + 1):\n",
        "    model.train()\n",
        "    total_loss = 0\n",
        "    batch_count = 0\n",
        "    loop = tqdm(pretext_loader, leave=False)\n",
        "\n",
        "    for im_q, im_k in loop:\n",
        "        im_q, im_k = im_q.to(device), im_k.to(device)\n",
        "        logits, labels = model(im_q, im_k)\n",
        "        loss = F.cross_entropy(logits, labels)\n",
        "\n",
        "        optimizer.zero_grad()\n",
        "        loss.backward()\n",
        "        optimizer.step()\n",
        "\n",
        "        total_loss += loss.item()\n",
        "        batch_count += 1\n",
        "        loop.set_description(f\"Epoch [{epoch}/{END_EPOCH}]\")\n",
        "        loop.set_postfix(loss=loss.item())\n",
        "\n",
        "    avg_loss = total_loss / batch_count\n",
        "    print(f\"Epoch {epoch}: Average Loss = {avg_loss:.4f}\")\n",
        "\n",
        "     # Save encoder every 5 epochs\n",
        "    if epoch % 5 == 0:\n",
        "        model_file = os.path.join(save_path, f\"moco_encoder_epoch{epoch}.pth\")\n",
        "        torch.save(model.encoder_q.state_dict(), model_file)\n",
        "        print(f\"Encoder saved at epoch {epoch}: {model_file}\")\n"
      ],
      "metadata": {
        "colab": {
          "base_uri": "https://localhost:8080/"
        },
        "id": "NAmyAqdl3sKG",
        "outputId": "7be54f97-be74-4cd2-c019-c37208e25430"
      },
      "execution_count": 12,
      "outputs": [
        {
          "metadata": {
            "tags": null
          },
          "name": "stderr",
          "output_type": "stream",
          "text": [
            ""
          ]
        },
        {
          "metadata": {
            "tags": null
          },
          "name": "stdout",
          "output_type": "stream",
          "text": [
            "Epoch 61: Average Loss = 8.1737\n"
          ]
        },
        {
          "metadata": {
            "tags": null
          },
          "name": "stderr",
          "output_type": "stream",
          "text": [
            ""
          ]
        },
        {
          "metadata": {
            "tags": null
          },
          "name": "stdout",
          "output_type": "stream",
          "text": [
            "Epoch 62: Average Loss = 8.1854\n"
          ]
        },
        {
          "metadata": {
            "tags": null
          },
          "name": "stderr",
          "output_type": "stream",
          "text": [
            ""
          ]
        },
        {
          "metadata": {
            "tags": null
          },
          "name": "stdout",
          "output_type": "stream",
          "text": [
            "Epoch 63: Average Loss = 8.1825\n"
          ]
        },
        {
          "metadata": {
            "tags": null
          },
          "name": "stderr",
          "output_type": "stream",
          "text": [
            ""
          ]
        },
        {
          "metadata": {
            "tags": null
          },
          "name": "stdout",
          "output_type": "stream",
          "text": [
            "Epoch 64: Average Loss = 8.1799\n"
          ]
        },
        {
          "metadata": {
            "tags": null
          },
          "name": "stderr",
          "output_type": "stream",
          "text": [
            ""
          ]
        },
        {
          "metadata": {
            "tags": null
          },
          "name": "stdout",
          "output_type": "stream",
          "text": [
            "Epoch 65: Average Loss = 8.1786\n",
            "Encoder saved at epoch 65: /content/drive/MyDrive/Colab Notebooks/Fish Classifications/moco_checkpoints/moco_encoder_epoch65.pth\n"
          ]
        },
        {
          "metadata": {
            "tags": null
          },
          "name": "stderr",
          "output_type": "stream",
          "text": [
            ""
          ]
        },
        {
          "metadata": {
            "tags": null
          },
          "name": "stdout",
          "output_type": "stream",
          "text": [
            "Epoch 66: Average Loss = 8.1784\n"
          ]
        },
        {
          "metadata": {
            "tags": null
          },
          "name": "stderr",
          "output_type": "stream",
          "text": [
            ""
          ]
        },
        {
          "metadata": {
            "tags": null
          },
          "name": "stdout",
          "output_type": "stream",
          "text": [
            "Epoch 67: Average Loss = 8.1769\n"
          ]
        },
        {
          "metadata": {
            "tags": null
          },
          "name": "stderr",
          "output_type": "stream",
          "text": [
            ""
          ]
        },
        {
          "metadata": {
            "tags": null
          },
          "name": "stdout",
          "output_type": "stream",
          "text": [
            "Epoch 68: Average Loss = 8.1749\n"
          ]
        },
        {
          "metadata": {
            "tags": null
          },
          "name": "stderr",
          "output_type": "stream",
          "text": [
            ""
          ]
        },
        {
          "metadata": {
            "tags": null
          },
          "name": "stdout",
          "output_type": "stream",
          "text": [
            "Epoch 69: Average Loss = 8.1726\n"
          ]
        },
        {
          "metadata": {
            "tags": null
          },
          "name": "stderr",
          "output_type": "stream",
          "text": [
            ""
          ]
        },
        {
          "metadata": {
            "tags": null
          },
          "name": "stdout",
          "output_type": "stream",
          "text": [
            "Epoch 70: Average Loss = 8.1728\n",
            "Encoder saved at epoch 70: /content/drive/MyDrive/Colab Notebooks/Fish Classifications/moco_checkpoints/moco_encoder_epoch70.pth\n"
          ]
        },
        {
          "metadata": {
            "tags": null
          },
          "name": "stderr",
          "output_type": "stream",
          "text": [
            ""
          ]
        },
        {
          "metadata": {
            "tags": null
          },
          "name": "stdout",
          "output_type": "stream",
          "text": [
            "Epoch 71: Average Loss = 8.1723\n"
          ]
        },
        {
          "metadata": {
            "tags": null
          },
          "name": "stderr",
          "output_type": "stream",
          "text": [
            ""
          ]
        },
        {
          "metadata": {
            "tags": null
          },
          "name": "stdout",
          "output_type": "stream",
          "text": [
            "Epoch 72: Average Loss = 8.1694\n"
          ]
        },
        {
          "metadata": {
            "tags": null
          },
          "name": "stderr",
          "output_type": "stream",
          "text": [
            ""
          ]
        },
        {
          "metadata": {
            "tags": null
          },
          "name": "stdout",
          "output_type": "stream",
          "text": [
            "Epoch 73: Average Loss = 8.1682\n"
          ]
        },
        {
          "metadata": {
            "tags": null
          },
          "name": "stderr",
          "output_type": "stream",
          "text": [
            ""
          ]
        },
        {
          "metadata": {
            "tags": null
          },
          "name": "stdout",
          "output_type": "stream",
          "text": [
            "Epoch 74: Average Loss = 8.1673\n"
          ]
        },
        {
          "metadata": {
            "tags": null
          },
          "name": "stderr",
          "output_type": "stream",
          "text": [
            ""
          ]
        },
        {
          "metadata": {
            "tags": null
          },
          "name": "stdout",
          "output_type": "stream",
          "text": [
            "Epoch 75: Average Loss = 8.1669\n",
            "Encoder saved at epoch 75: /content/drive/MyDrive/Colab Notebooks/Fish Classifications/moco_checkpoints/moco_encoder_epoch75.pth\n"
          ]
        },
        {
          "metadata": {
            "tags": null
          },
          "name": "stderr",
          "output_type": "stream",
          "text": [
            ""
          ]
        },
        {
          "metadata": {
            "tags": null
          },
          "name": "stdout",
          "output_type": "stream",
          "text": [
            "Epoch 76: Average Loss = 8.1655\n"
          ]
        },
        {
          "metadata": {
            "tags": null
          },
          "name": "stderr",
          "output_type": "stream",
          "text": [
            ""
          ]
        },
        {
          "metadata": {
            "tags": null
          },
          "name": "stdout",
          "output_type": "stream",
          "text": [
            "Epoch 77: Average Loss = 8.1673\n"
          ]
        },
        {
          "metadata": {
            "tags": null
          },
          "name": "stderr",
          "output_type": "stream",
          "text": [
            ""
          ]
        },
        {
          "metadata": {
            "tags": null
          },
          "name": "stdout",
          "output_type": "stream",
          "text": [
            "Epoch 78: Average Loss = 8.1637\n"
          ]
        },
        {
          "metadata": {
            "tags": null
          },
          "name": "stderr",
          "output_type": "stream",
          "text": [
            ""
          ]
        },
        {
          "metadata": {
            "tags": null
          },
          "name": "stdout",
          "output_type": "stream",
          "text": [
            "Epoch 79: Average Loss = 8.1633\n"
          ]
        },
        {
          "metadata": {
            "tags": null
          },
          "name": "stderr",
          "output_type": "stream",
          "text": [
            ""
          ]
        },
        {
          "metadata": {
            "tags": null
          },
          "name": "stdout",
          "output_type": "stream",
          "text": [
            "Epoch 80: Average Loss = 8.1617\n",
            "Encoder saved at epoch 80: /content/drive/MyDrive/Colab Notebooks/Fish Classifications/moco_checkpoints/moco_encoder_epoch80.pth\n"
          ]
        },
        {
          "metadata": {
            "tags": null
          },
          "name": "stderr",
          "output_type": "stream",
          "text": [
            ""
          ]
        },
        {
          "metadata": {
            "tags": null
          },
          "name": "stdout",
          "output_type": "stream",
          "text": [
            "Epoch 81: Average Loss = 8.1616\n"
          ]
        },
        {
          "metadata": {
            "tags": null
          },
          "name": "stderr",
          "output_type": "stream",
          "text": [
            ""
          ]
        },
        {
          "metadata": {
            "tags": null
          },
          "name": "stdout",
          "output_type": "stream",
          "text": [
            "Epoch 82: Average Loss = 8.1597\n"
          ]
        },
        {
          "metadata": {
            "tags": null
          },
          "name": "stderr",
          "output_type": "stream",
          "text": [
            ""
          ]
        },
        {
          "metadata": {
            "tags": null
          },
          "name": "stdout",
          "output_type": "stream",
          "text": [
            "Epoch 83: Average Loss = 8.1616\n"
          ]
        },
        {
          "metadata": {
            "tags": null
          },
          "name": "stderr",
          "output_type": "stream",
          "text": [
            ""
          ]
        },
        {
          "metadata": {
            "tags": null
          },
          "name": "stdout",
          "output_type": "stream",
          "text": [
            "Epoch 84: Average Loss = 8.1593\n"
          ]
        },
        {
          "metadata": {
            "tags": null
          },
          "name": "stderr",
          "output_type": "stream",
          "text": [
            ""
          ]
        },
        {
          "metadata": {
            "tags": null
          },
          "name": "stdout",
          "output_type": "stream",
          "text": [
            "Epoch 85: Average Loss = 8.1577\n",
            "Encoder saved at epoch 85: /content/drive/MyDrive/Colab Notebooks/Fish Classifications/moco_checkpoints/moco_encoder_epoch85.pth\n"
          ]
        },
        {
          "metadata": {
            "tags": null
          },
          "name": "stderr",
          "output_type": "stream",
          "text": [
            ""
          ]
        },
        {
          "metadata": {
            "tags": null
          },
          "name": "stdout",
          "output_type": "stream",
          "text": [
            "Epoch 86: Average Loss = 8.1563\n"
          ]
        },
        {
          "metadata": {
            "tags": null
          },
          "name": "stderr",
          "output_type": "stream",
          "text": [
            ""
          ]
        },
        {
          "metadata": {
            "tags": null
          },
          "name": "stdout",
          "output_type": "stream",
          "text": [
            "Epoch 87: Average Loss = 8.1550\n"
          ]
        },
        {
          "metadata": {
            "tags": null
          },
          "name": "stderr",
          "output_type": "stream",
          "text": [
            ""
          ]
        },
        {
          "metadata": {
            "tags": null
          },
          "name": "stdout",
          "output_type": "stream",
          "text": [
            "Epoch 88: Average Loss = 8.1550\n"
          ]
        },
        {
          "metadata": {
            "tags": null
          },
          "name": "stderr",
          "output_type": "stream",
          "text": [
            ""
          ]
        },
        {
          "metadata": {
            "tags": null
          },
          "name": "stdout",
          "output_type": "stream",
          "text": [
            "Epoch 89: Average Loss = 8.1552\n"
          ]
        },
        {
          "metadata": {
            "tags": null
          },
          "name": "stderr",
          "output_type": "stream",
          "text": [
            ""
          ]
        },
        {
          "metadata": {
            "tags": null
          },
          "name": "stdout",
          "output_type": "stream",
          "text": [
            "Epoch 90: Average Loss = 8.1540\n",
            "Encoder saved at epoch 90: /content/drive/MyDrive/Colab Notebooks/Fish Classifications/moco_checkpoints/moco_encoder_epoch90.pth\n"
          ]
        },
        {
          "metadata": {
            "tags": null
          },
          "name": "stderr",
          "output_type": "stream",
          "text": [
            ""
          ]
        },
        {
          "metadata": {
            "tags": null
          },
          "name": "stdout",
          "output_type": "stream",
          "text": [
            "Epoch 91: Average Loss = 8.1540\n"
          ]
        },
        {
          "metadata": {
            "tags": null
          },
          "name": "stderr",
          "output_type": "stream",
          "text": [
            ""
          ]
        },
        {
          "metadata": {
            "tags": null
          },
          "name": "stdout",
          "output_type": "stream",
          "text": [
            "Epoch 92: Average Loss = 8.1518\n"
          ]
        },
        {
          "metadata": {
            "tags": null
          },
          "name": "stderr",
          "output_type": "stream",
          "text": [
            ""
          ]
        },
        {
          "metadata": {
            "tags": null
          },
          "name": "stdout",
          "output_type": "stream",
          "text": [
            "Epoch 93: Average Loss = 8.1513\n"
          ]
        },
        {
          "metadata": {
            "tags": null
          },
          "name": "stderr",
          "output_type": "stream",
          "text": [
            ""
          ]
        },
        {
          "metadata": {
            "tags": null
          },
          "name": "stdout",
          "output_type": "stream",
          "text": [
            "Epoch 94: Average Loss = 8.1524\n"
          ]
        },
        {
          "metadata": {
            "tags": null
          },
          "name": "stderr",
          "output_type": "stream",
          "text": [
            ""
          ]
        },
        {
          "metadata": {
            "tags": null
          },
          "name": "stdout",
          "output_type": "stream",
          "text": [
            "Epoch 95: Average Loss = 8.1496\n",
            "Encoder saved at epoch 95: /content/drive/MyDrive/Colab Notebooks/Fish Classifications/moco_checkpoints/moco_encoder_epoch95.pth\n"
          ]
        },
        {
          "metadata": {
            "tags": null
          },
          "name": "stderr",
          "output_type": "stream",
          "text": [
            ""
          ]
        },
        {
          "metadata": {
            "tags": null
          },
          "name": "stdout",
          "output_type": "stream",
          "text": [
            "Epoch 96: Average Loss = 8.1495\n"
          ]
        },
        {
          "metadata": {
            "tags": null
          },
          "name": "stderr",
          "output_type": "stream",
          "text": [
            ""
          ]
        },
        {
          "metadata": {
            "tags": null
          },
          "name": "stdout",
          "output_type": "stream",
          "text": [
            "Epoch 97: Average Loss = 8.1518\n"
          ]
        },
        {
          "metadata": {
            "tags": null
          },
          "name": "stderr",
          "output_type": "stream",
          "text": [
            ""
          ]
        },
        {
          "metadata": {
            "tags": null
          },
          "name": "stdout",
          "output_type": "stream",
          "text": [
            "Epoch 98: Average Loss = 8.1499\n"
          ]
        },
        {
          "metadata": {
            "tags": null
          },
          "name": "stderr",
          "output_type": "stream",
          "text": [
            ""
          ]
        },
        {
          "metadata": {
            "tags": null
          },
          "name": "stdout",
          "output_type": "stream",
          "text": [
            "Epoch 99: Average Loss = 8.1499\n"
          ]
        },
        {
          "output_type": "stream",
          "name": "stderr",
          "text": [
            "                                                                             "
          ]
        },
        {
          "output_type": "stream",
          "name": "stdout",
          "text": [
            "Epoch 100: Average Loss = 8.1490\n",
            "Encoder saved at epoch 100: /content/drive/MyDrive/Colab Notebooks/Fish Classifications/moco_checkpoints/moco_encoder_epoch100.pth\n"
          ]
        },
        {
          "output_type": "stream",
          "name": "stderr",
          "text": [
            "\r"
          ]
        }
      ]
    },
    {
      "cell_type": "code",
      "source": [
        "# Load encoder and attach classifier head\n",
        "class FineTunedModel(nn.Module):\n",
        "    def __init__(self, num_classes):\n",
        "        super(FineTunedModel, self).__init__()\n",
        "        self.encoder = resnet18(pretrained=False)\n",
        "        self.encoder.fc = nn.Identity()\n",
        "        self.encoder.load_state_dict(torch.load(\"/content/drive/MyDrive/Colab Notebooks/Fish Classifications/moco_checkpoints/moco_encoder_epoch95.pth\"), strict=False)\n",
        "        self.classifier = nn.Linear(512, num_classes)\n",
        "\n",
        "    def forward(self, x):\n",
        "        with torch.no_grad():\n",
        "            features = self.encoder(x)\n",
        "        return self.classifier(features)\n",
        "\n",
        "# Standard dataset with labels\n",
        "train_transform = transforms.Compose([\n",
        "    transforms.Resize((224, 224)),\n",
        "    transforms.ToTensor(),\n",
        "    transforms.Normalize([0.485, 0.456, 0.406],\n",
        "                         [0.229, 0.224, 0.225])\n",
        "])\n",
        "\n",
        "full_dataset = datasets.ImageFolder(\"/content/drive/MyDrive/Colab Notebooks/Fish Classifications/Fish Data_Raw\", transform=train_transform)\n",
        "\n",
        "# Train/test split\n",
        "from torch.utils.data import random_split\n",
        "train_size = int(0.8 * len(full_dataset))\n",
        "test_size = len(full_dataset) - train_size\n",
        "train_ds, test_ds = random_split(full_dataset, [train_size, test_size])\n",
        "\n",
        "train_loader = DataLoader(train_ds, batch_size=32, shuffle=True)\n",
        "test_loader = DataLoader(test_ds, batch_size=32)\n",
        "\n",
        "# Fine-tuning\n",
        "model_ft = FineTunedModel(num_classes=len(full_dataset.classes)).to(device)\n",
        "criterion = nn.CrossEntropyLoss()\n",
        "optimizer = torch.optim.Adam(model_ft.classifier.parameters(), lr=0.001)\n",
        "\n",
        "# Train\n",
        "import time\n",
        "start = time.time()\n",
        "for epoch in range(100):\n",
        "    model_ft.train()\n",
        "    total_loss = 0\n",
        "    for x, y in train_loader:\n",
        "        x, y = x.to(device), y.to(device)\n",
        "        preds = model_ft(x)\n",
        "        loss = criterion(preds, y)\n",
        "        optimizer.zero_grad()\n",
        "        loss.backward()\n",
        "        optimizer.step()\n",
        "        total_loss += loss.item()\n",
        "    print(f\"Epoch {epoch+1}, Loss: {total_loss:.4f}\")\n",
        "end = time.time()\n",
        "print(f\"Training time: {end - start:.2f} seconds\")\n"
      ],
      "metadata": {
        "id": "U8DfAEduGtQK",
        "colab": {
          "base_uri": "https://localhost:8080/"
        },
        "outputId": "221db2be-ddf0-44b6-ce1c-5baed474b5fc"
      },
      "execution_count": 16,
      "outputs": [
        {
          "output_type": "stream",
          "name": "stdout",
          "text": [
            "Epoch 1, Loss: 870.0537\n",
            "Epoch 2, Loss: 606.6939\n",
            "Epoch 3, Loss: 520.3496\n",
            "Epoch 4, Loss: 478.5452\n",
            "Epoch 5, Loss: 443.9759\n",
            "Epoch 6, Loss: 422.1302\n",
            "Epoch 7, Loss: 394.9591\n",
            "Epoch 8, Loss: 383.9068\n",
            "Epoch 9, Loss: 369.5117\n",
            "Epoch 10, Loss: 357.6531\n",
            "Epoch 11, Loss: 344.6703\n",
            "Epoch 12, Loss: 335.8568\n",
            "Epoch 13, Loss: 323.1657\n",
            "Epoch 14, Loss: 321.3521\n",
            "Epoch 15, Loss: 310.6706\n",
            "Epoch 16, Loss: 308.7515\n",
            "Epoch 17, Loss: 301.5670\n",
            "Epoch 18, Loss: 289.4898\n",
            "Epoch 19, Loss: 289.6277\n",
            "Epoch 20, Loss: 280.5887\n",
            "Epoch 21, Loss: 278.5374\n",
            "Epoch 22, Loss: 275.8450\n",
            "Epoch 23, Loss: 269.3068\n",
            "Epoch 24, Loss: 266.9100\n",
            "Epoch 25, Loss: 265.3428\n",
            "Epoch 26, Loss: 258.1396\n",
            "Epoch 27, Loss: 256.8822\n",
            "Epoch 28, Loss: 249.5146\n",
            "Epoch 29, Loss: 250.3407\n",
            "Epoch 30, Loss: 240.6226\n",
            "Epoch 31, Loss: 243.9420\n",
            "Epoch 32, Loss: 239.7204\n",
            "Epoch 33, Loss: 231.9960\n",
            "Epoch 34, Loss: 235.0748\n",
            "Epoch 35, Loss: 228.9414\n",
            "Epoch 36, Loss: 227.0529\n",
            "Epoch 37, Loss: 227.7949\n",
            "Epoch 38, Loss: 224.0498\n",
            "Epoch 39, Loss: 219.7266\n",
            "Epoch 40, Loss: 219.9481\n",
            "Epoch 41, Loss: 216.4122\n",
            "Epoch 42, Loss: 214.3583\n",
            "Epoch 43, Loss: 219.9700\n",
            "Epoch 44, Loss: 210.5606\n",
            "Epoch 45, Loss: 208.8301\n",
            "Epoch 46, Loss: 207.6033\n",
            "Epoch 47, Loss: 206.1206\n",
            "Epoch 48, Loss: 203.5354\n",
            "Epoch 49, Loss: 206.0330\n",
            "Epoch 50, Loss: 206.9919\n",
            "Epoch 51, Loss: 203.2143\n",
            "Epoch 52, Loss: 199.9221\n",
            "Epoch 53, Loss: 197.2853\n",
            "Epoch 54, Loss: 193.4099\n",
            "Epoch 55, Loss: 198.5206\n",
            "Epoch 56, Loss: 190.7398\n",
            "Epoch 57, Loss: 188.5228\n",
            "Epoch 58, Loss: 189.8339\n",
            "Epoch 59, Loss: 191.4971\n",
            "Epoch 60, Loss: 189.5679\n",
            "Epoch 61, Loss: 186.0445\n",
            "Epoch 62, Loss: 187.9999\n",
            "Epoch 63, Loss: 181.8411\n",
            "Epoch 64, Loss: 186.4296\n",
            "Epoch 65, Loss: 183.8010\n",
            "Epoch 66, Loss: 181.0433\n",
            "Epoch 67, Loss: 183.0855\n",
            "Epoch 68, Loss: 176.2021\n",
            "Epoch 69, Loss: 178.4655\n",
            "Epoch 70, Loss: 178.9921\n",
            "Epoch 71, Loss: 175.7283\n",
            "Epoch 72, Loss: 177.8490\n",
            "Epoch 73, Loss: 172.9056\n",
            "Epoch 74, Loss: 170.7885\n",
            "Epoch 75, Loss: 172.3774\n",
            "Epoch 76, Loss: 173.2223\n",
            "Epoch 77, Loss: 172.2079\n",
            "Epoch 78, Loss: 171.8053\n",
            "Epoch 79, Loss: 171.8310\n",
            "Epoch 80, Loss: 171.6824\n",
            "Epoch 81, Loss: 166.2443\n",
            "Epoch 82, Loss: 173.8405\n",
            "Epoch 83, Loss: 163.9269\n",
            "Epoch 84, Loss: 166.0156\n",
            "Epoch 85, Loss: 167.8621\n",
            "Epoch 86, Loss: 163.1634\n",
            "Epoch 87, Loss: 165.3433\n",
            "Epoch 88, Loss: 162.6917\n",
            "Epoch 89, Loss: 159.9624\n",
            "Epoch 90, Loss: 160.1555\n",
            "Epoch 91, Loss: 161.6421\n",
            "Epoch 92, Loss: 159.8504\n",
            "Epoch 93, Loss: 163.4009\n",
            "Epoch 94, Loss: 162.3440\n",
            "Epoch 95, Loss: 161.0052\n",
            "Epoch 96, Loss: 159.9337\n",
            "Epoch 97, Loss: 158.5804\n",
            "Epoch 98, Loss: 156.5507\n",
            "Epoch 99, Loss: 155.4829\n",
            "Epoch 100, Loss: 159.3749\n",
            "Training time: 22040.19 seconds\n"
          ]
        }
      ]
    },
    {
      "cell_type": "code",
      "source": [
        "# After training finishes\n",
        "end = time.time()\n",
        "print(f\"Training time: {end - start:.2f} seconds\")\n",
        "\n",
        "#Save model to Google Drive\n",
        "torch.save(model_ft.state_dict(), \"/content/drive/MyDrive/Colab Notebooks/Fish Classifications/fine_tuned_classifier.pth\")\n",
        "print(\"Model saved successfully!\")\n"
      ],
      "metadata": {
        "colab": {
          "base_uri": "https://localhost:8080/"
        },
        "id": "oP9s0XC_zQND",
        "outputId": "940035b9-40f2-4b90-e2ff-5adc6661443b"
      },
      "execution_count": 21,
      "outputs": [
        {
          "output_type": "stream",
          "name": "stdout",
          "text": [
            "Training time: 23886.48 seconds\n",
            "Model saved successfully!\n"
          ]
        }
      ]
    },
    {
      "cell_type": "code",
      "source": [
        "from sklearn.metrics import accuracy_score, classification_report, confusion_matrix, roc_auc_score, roc_curve\n",
        "import matplotlib.pyplot as plt\n",
        "import seaborn as sns\n",
        "import numpy as np\n",
        "\n",
        "model_ft.eval()\n",
        "true_labels, pred_labels = [], []\n",
        "\n",
        "with torch.no_grad():\n",
        "    for x, y in test_loader:\n",
        "        x = x.to(device)\n",
        "        out = model_ft(x)\n",
        "        preds = torch.argmax(out, dim=1).cpu().numpy()\n",
        "        true_labels.extend(y.numpy())\n",
        "        pred_labels.extend(preds)\n",
        "\n",
        "# Accuracy and classification report\n",
        "print(\"Accuracy:\", accuracy_score(true_labels, pred_labels))\n",
        "print(\"Classification Report:\")\n",
        "print(classification_report(true_labels, pred_labels, target_names=full_dataset.classes))\n",
        "\n",
        "# Confusion Matrix\n",
        "cm = confusion_matrix(true_labels, pred_labels)\n",
        "plt.figure(figsize=(10, 8))\n",
        "sns.heatmap(cm, annot=True, fmt=\"d\", xticklabels=full_dataset.classes, yticklabels=full_dataset.classes)\n",
        "plt.title(\"Confusion Matrix\")\n",
        "plt.show()\n"
      ],
      "metadata": {
        "id": "VRYdOgm0GtSh",
        "colab": {
          "base_uri": "https://localhost:8080/",
          "height": 1000
        },
        "outputId": "055f2362-10b7-4569-9696-f71002a77a91"
      },
      "execution_count": 22,
      "outputs": [
        {
          "output_type": "stream",
          "name": "stdout",
          "text": [
            "Accuracy: 0.9382189239332096\n",
            "Classification Report:\n",
            "              precision    recall  f1-score   support\n",
            "\n",
            "        Aair       0.85      0.93      0.89       365\n",
            "        Boal       0.95      0.94      0.94       339\n",
            "     Chapila       0.96      0.99      0.97        94\n",
            "   DeshiPuti       0.96      0.95      0.95        94\n",
            "        Foli       0.96      0.89      0.92       100\n",
            "       Ilish       0.97      0.98      0.98       192\n",
            "    KalBaush       0.85      0.98      0.91       169\n",
            "       Katla       0.95      0.98      0.96       359\n",
            "         Koi       0.97      0.99      0.98       148\n",
            "       Magur       0.98      0.98      0.98       127\n",
            "      Mrigel       0.95      0.95      0.95       347\n",
            "       Pabda       0.98      0.91      0.95       383\n",
            "      Pangas       0.99      0.98      0.99       202\n",
            "        Puti       0.94      0.98      0.96       321\n",
            "         Rui       0.92      0.92      0.92       472\n",
            "        Shol       0.88      0.83      0.85       294\n",
            "        Taki       0.96      0.83      0.89       445\n",
            "    Tarabaim       0.94      0.98      0.96       251\n",
            "    Telapiya       0.95      0.97      0.96       414\n",
            "      Tengra       0.93      0.96      0.94       274\n",
            "\n",
            "    accuracy                           0.94      5390\n",
            "   macro avg       0.94      0.95      0.94      5390\n",
            "weighted avg       0.94      0.94      0.94      5390\n",
            "\n"
          ]
        },
        {
          "output_type": "display_data",
          "data": {
            "text/plain": [
              "<Figure size 1000x800 with 2 Axes>"
            ],
            "image/png": "[encoded data removed]"
          },
          "metadata": {}
        }
      ]
    },
    {
      "cell_type": "code",
      "source": [
        "from sklearn.preprocessing import label_binarize\n",
        "from sklearn.metrics import roc_auc_score\n",
        "\n",
        "# One-hot encoding\n",
        "y_true_bin = label_binarize(true_labels, classes=range(len(full_dataset.classes)))\n",
        "y_score = []\n",
        "\n",
        "model_ft.eval()\n",
        "with torch.no_grad():\n",
        "    for x, y in test_loader:\n",
        "        x = x.to(device)\n",
        "        out = model_ft(x)\n",
        "        y_score.extend(out.cpu().numpy())\n",
        "\n",
        "y_score = np.array(y_score)\n",
        "print(\"Macro AUC:\", roc_auc_score(y_true_bin, y_score, average=\"macro\", multi_class='ovr'))\n"
      ],
      "metadata": {
        "id": "nTK9y8L9GtW8",
        "colab": {
          "base_uri": "https://localhost:8080/"
        },
        "outputId": "48154b0a-6bf6-40dd-843d-b11e4dda79ae"
      },
      "execution_count": 23,
      "outputs": [
        {
          "output_type": "stream",
          "name": "stdout",
          "text": [
            "Macro AUC: 0.9893084146172964\n"
          ]
        }
      ]
    },
    {
      "cell_type": "code",
      "source": [
        "from sklearn.manifold import TSNE\n",
        "import pandas as pd\n",
        "import matplotlib.pyplot as plt\n",
        "import seaborn as sns\n",
        "\n",
        "# Convert features list to NumPy array\n",
        "features = np.array(features)\n",
        "\n",
        "# Apply t-SNE\n",
        "tsne = TSNE(n_components=2, random_state=42).fit_transform(features)\n",
        "\n",
        "# Make a dataframe for visualization\n",
        "df = pd.DataFrame(tsne, columns=[\"x\", \"y\"])\n",
        "df[\"label\"] = labels\n",
        "\n",
        "# Plot\n",
        "plt.figure(figsize=(10, 8))\n",
        "sns.scatterplot(data=df, x=\"x\", y=\"y\", hue=\"label\", palette=\"tab20\", legend=\"full\")\n",
        "plt.title(\"t-SNE Visualization of Feature Embeddings\")\n",
        "plt.show()\n"
      ],
      "metadata": {
        "id": "0oja9WDQGtZB",
        "colab": {
          "base_uri": "https://localhost:8080/",
          "height": 738
        },
        "outputId": "a06eef0a-e368-462d-d2df-6428d11c41af"
      },
      "execution_count": 20,
      "outputs": [
        {
          "output_type": "display_data",
          "data": {
            "text/plain": [
              "<Figure size 1000x800 with 1 Axes>"
            ],
            "image/png": "[encoded data removed]"
          },
          "metadata": {}
        }
      ]
    }
  ]
}